{
 "cells": [
  {
   "cell_type": "code",
   "execution_count": 6,
   "id": "468db3d4",
   "metadata": {},
   "outputs": [
    {
     "name": "stdout",
     "output_type": "stream",
     "text": [
      "Enter a Text:GVCTXSKVETLC\n",
      "Enter the Key:4\n",
      "What you want 1 or 2:\n",
      "1. Encryption\n",
      "2. Decryption\n",
      "Choose 1 or 2:2\n",
      "CRYPTOGRAPHY\n"
     ]
    }
   ],
   "source": [
    "class Encryption:\n",
    "    def cipher_text(pt,k):\n",
    "        pt = pt.upper()\n",
    "        c_text = \"\"\n",
    "        \n",
    "        pt = pt.replace(\" \",\"\")\n",
    "        \n",
    "        for i in range(len(pt)):\n",
    "            if (pt[i].isupper()) :\n",
    "                c_text += chr((((ord(pt[i]))-65)+k)%26 + 65)\n",
    "        print(c_text)\n",
    "\n",
    "class Decryption:\n",
    "    def plain_text(ct,k):\n",
    "\n",
    "        ct = ct.upper()\n",
    "        plain_text = \"\"\n",
    "        \n",
    "        ct = ct.replace(\" \",\"\")\n",
    "        \n",
    "        for i in range(len(ct)):\n",
    "            if (ct[i].isupper()) :\n",
    "               \n",
    "                plain_text+= chr((((ord(ct[i]))-65)-k)%26 + 65)\n",
    "       \n",
    "        print(plain_text)\n",
    "\n",
    "Text = input(\"Enter a Text:\")\n",
    "k = int(input(\"Enter the Key:\"))\n",
    "\n",
    "print(\"What you want 1 or 2:\")\n",
    "print(\"1. Encryption\")\n",
    "print(\"2. Decryption\")\n",
    "\n",
    "choice = int(input(\"Choose 1 or 2:\"))\n",
    "\n",
    "if choice==1:\n",
    "    Encryption.cipher_text(Text,k)\n",
    "\n",
    "if choice==2:\n",
    "    Decryption.plain_text(Text,k)"
   ]
  },
  {
   "cell_type": "code",
   "execution_count": null,
   "id": "273d1f6b",
   "metadata": {},
   "outputs": [],
   "source": []
  }
 ],
 "metadata": {
  "kernelspec": {
   "display_name": "Python 3 (ipykernel)",
   "language": "python",
   "name": "python3"
  },
  "language_info": {
   "codemirror_mode": {
    "name": "ipython",
    "version": 3
   },
   "file_extension": ".py",
   "mimetype": "text/x-python",
   "name": "python",
   "nbconvert_exporter": "python",
   "pygments_lexer": "ipython3",
   "version": "3.11.5"
  }
 },
 "nbformat": 4,
 "nbformat_minor": 5
}
